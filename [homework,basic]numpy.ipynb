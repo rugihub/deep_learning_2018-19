{
  "nbformat": 4,
  "nbformat_minor": 0,
  "metadata": {
    "colab": {
      "name": "[homework,basic]numpy.ipynb",
      "provenance": [],
      "collapsed_sections": [],
      "include_colab_link": true
    },
    "kernelspec": {
      "display_name": "Python 3",
      "language": "python",
      "name": "python3"
    },
    "language_info": {
      "codemirror_mode": {
        "name": "ipython",
        "version": 3
      },
      "file_extension": ".py",
      "mimetype": "text/x-python",
      "name": "python",
      "nbconvert_exporter": "python",
      "pygments_lexer": "ipython3",
      "version": "3.7.3"
    }
  },
  "cells": [
    {
      "cell_type": "markdown",
      "metadata": {
        "id": "view-in-github",
        "colab_type": "text"
      },
      "source": [
        "<a href=\"https://colab.research.google.com/github/rugihub/deep_learning_2018-19/blob/master/%5Bhomework%2Cbasic%5Dnumpy.ipynb\" target=\"_parent\"><img src=\"https://colab.research.google.com/assets/colab-badge.svg\" alt=\"Open In Colab\"/></a>"
      ]
    },
    {
      "cell_type": "markdown",
      "metadata": {
        "colab_type": "text",
        "id": "KxIquH6GK7kt"
      },
      "source": [
        "<p style=\"align: center;\"><img align=center src=\"https://s8.hostingkartinok.com/uploads/images/2018/08/308b49fcfbc619d629fe4604bceb67ac.jpg\" width=500 height=450/></p>\n",
        "\n",
        "<h3 style=\"text-align: center;\"><b>Физтех-Школа Прикладной математики и информатики (ФПМИ) МФТИ</b></h3>"
      ]
    },
    {
      "cell_type": "markdown",
      "metadata": {
        "colab_type": "text",
        "id": "h8gsBtzoGEhe"
      },
      "source": [
        "---"
      ]
    },
    {
      "cell_type": "markdown",
      "metadata": {
        "colab_type": "text",
        "id": "f32591XJK7kw"
      },
      "source": [
        "## Домашнее задание: библиотека Numpy и линейная алгебра. Решение\n"
      ]
    },
    {
      "cell_type": "code",
      "metadata": {
        "colab_type": "code",
        "id": "YEJ8DQ4QK7kx",
        "colab": {}
      },
      "source": [
        "import numpy as np\n",
        "import random\n",
        "import scipy.stats as sps"
      ],
      "execution_count": 0,
      "outputs": []
    },
    {
      "cell_type": "markdown",
      "metadata": {
        "colab_type": "text",
        "id": "5_eFZpeoK7k2"
      },
      "source": [
        "### Numpy"
      ]
    },
    {
      "cell_type": "markdown",
      "metadata": {
        "colab_type": "text",
        "id": "hYXhVX0eK7k2"
      },
      "source": [
        "### Задание 1\n",
        "В первой задаче вам предлагается перемножить две квадратные матрицы двумя способами -- без использования пакета ***numpy*** и с ним."
      ]
    },
    {
      "cell_type": "code",
      "metadata": {
        "colab_type": "code",
        "id": "zJR8EANzK7k3",
        "outputId": "44277455-5875-4c28-c445-1e5fba38f950",
        "colab": {
          "base_uri": "https://localhost:8080/",
          "height": 255
        }
      },
      "source": [
        "# Для генерации матриц используем фукнцию random -- она используется для генерации случайных объектов \n",
        "# функция sample создает случайную выборку. В качестве аргумента ей передается кортеж (i,j),  \n",
        "# здесь i -- число строк, j -- число столбцов.\n",
        "a = np.random.sample((100, 100))\n",
        "b = np.random.sample((100, 100))\n",
        "# выведите размерность (ранг) каждой матрицы с помощью функции ndim.\n",
        "# Используйте функцию shape, что она вывела?\n",
        "# ========\n",
        "# Ваш код здесь\n",
        "# ========\n",
        "print(a)\n",
        "print(b)"
      ],
      "execution_count": 0,
      "outputs": [
        {
          "output_type": "stream",
          "text": [
            "[[0.75285271 0.09915309 0.90862646 ... 0.94199798 0.25571249 0.37760162]\n",
            " [0.59681151 0.68752691 0.54169283 ... 0.43143405 0.72486135 0.6017347 ]\n",
            " [0.49567458 0.25282148 0.68806469 ... 0.91253705 0.89784499 0.27130766]\n",
            " ...\n",
            " [0.7168638  0.56814752 0.65913114 ... 0.55664862 0.06557419 0.20934542]\n",
            " [0.17522526 0.43394219 0.70807518 ... 0.88215288 0.16894725 0.14838289]\n",
            " [0.36839628 0.10134237 0.33664008 ... 0.47648413 0.41957591 0.7234456 ]]\n",
            "[[0.16610866 0.30367737 0.67061313 ... 0.53316481 0.95335636 0.59983397]\n",
            " [0.58210058 0.83748443 0.02109862 ... 0.96505767 0.5836968  0.80201014]\n",
            " [0.44379319 0.16329923 0.52969427 ... 0.67839159 0.59765755 0.79202553]\n",
            " ...\n",
            " [0.76620593 0.31431935 0.1253163  ... 0.63933765 0.18345646 0.01188208]\n",
            " [0.05562515 0.72974802 0.36497507 ... 0.49842026 0.14460184 0.86309076]\n",
            " [0.00462342 0.46064598 0.67362085 ... 0.45694056 0.56885573 0.85288535]]\n"
          ],
          "name": "stdout"
        }
      ]
    },
    {
      "cell_type": "code",
      "metadata": {
        "colab_type": "code",
        "id": "bkWCI4TPK7k8",
        "colab": {}
      },
      "source": [
        "def mult(a, b):\n",
        "    # здесь напишите перемножение матриц без \n",
        "    # использования NumPy и выведите результат"
      ],
      "execution_count": 0,
      "outputs": []
    },
    {
      "cell_type": "code",
      "metadata": {
        "colab_type": "code",
        "id": "IIgYD1W5K7lB",
        "colab": {}
      },
      "source": [
        "def np_mult(a, b):\n",
        "    # здесь напишите перемножение матриц с\n",
        "    # использованием NumPy и выведите результат"
      ],
      "execution_count": 0,
      "outputs": []
    },
    {
      "cell_type": "code",
      "metadata": {
        "colab_type": "code",
        "id": "tktkYzUHK7lE",
        "outputId": "9e9c5db8-cd49-4c0f-cb11-97825805163b",
        "colab": {
          "base_uri": "https://localhost:8080/",
          "height": 51
        }
      },
      "source": [
        "%%time\n",
        "# засечем время работы функции без NumPy\n",
        "M1 = mult(a, b)"
      ],
      "execution_count": 0,
      "outputs": [
        {
          "output_type": "stream",
          "text": [
            "CPU times: user 812 ms, sys: 7.61 ms, total: 820 ms\n",
            "Wall time: 821 ms\n"
          ],
          "name": "stdout"
        }
      ]
    },
    {
      "cell_type": "code",
      "metadata": {
        "colab_type": "code",
        "id": "TmD0adgHK7lK",
        "outputId": "2a78a62c-c2b2-45de-d417-30fcdfb11cf3",
        "colab": {
          "base_uri": "https://localhost:8080/",
          "height": 51
        }
      },
      "source": [
        "%%time\n",
        "# засечем время работы функции с NumPy\n",
        "M2 = np_mult(a, b)"
      ],
      "execution_count": 0,
      "outputs": [
        {
          "output_type": "stream",
          "text": [
            "CPU times: user 1.27 ms, sys: 0 ns, total: 1.27 ms\n",
            "Wall time: 587 µs\n"
          ],
          "name": "stdout"
        }
      ]
    },
    {
      "cell_type": "code",
      "metadata": {
        "colab_type": "code",
        "id": "oftqyANQK7lS",
        "outputId": "8dac878b-70c9-4f2e-fff9-994a73fcd757",
        "colab": {
          "base_uri": "https://localhost:8080/",
          "height": 34
        }
      },
      "source": [
        "# проверим корректность\n",
        "np.abs(np.array(M1) - M2).sum()"
      ],
      "execution_count": 0,
      "outputs": [
        {
          "output_type": "execute_result",
          "data": {
            "text/plain": [
              "1.553246420371579e-11"
            ]
          },
          "metadata": {
            "tags": []
          },
          "execution_count": 11
        }
      ]
    },
    {
      "cell_type": "markdown",
      "metadata": {
        "colab_type": "text",
        "id": "2itTyTlcaHAu"
      },
      "source": [
        "### Задание 2"
      ]
    },
    {
      "cell_type": "markdown",
      "metadata": {
        "colab_type": "text",
        "id": "BCemQSq-aEbO"
      },
      "source": [
        "Вам подаются на вход два вектора `a` и `b` в трехмерном пространстве. Заполните их случайными числами. Реализуйте их скалярное произведение с помощью  `NumPy` и без. Засеките время работы, как это показано в заданиях выше."
      ]
    },
    {
      "cell_type": "code",
      "metadata": {
        "colab_type": "code",
        "id": "lWhr_gPSZ9o_",
        "outputId": "734d9bf4-8c98-46a1-ffcc-934d0805024d",
        "colab": {
          "base_uri": "https://localhost:8080/",
          "height": 34
        }
      },
      "source": [
        "a = np.random.sample((1, 3))\n",
        "a = list(a)[0]\n",
        "b = np.random.sample((1, 3))\n",
        "b = list(b)[0]\n",
        "print(a, b)"
      ],
      "execution_count": 0,
      "outputs": [
        {
          "output_type": "stream",
          "text": [
            "[0.82238967 0.60895342 0.18699693] [0.10087098 0.31786346 0.05313135]\n"
          ],
          "name": "stdout"
        }
      ]
    },
    {
      "cell_type": "code",
      "metadata": {
        "colab_type": "code",
        "id": "GjlkcHIWZ_ae",
        "colab": {}
      },
      "source": [
        "def scalar_product(a,b):\n",
        "    #YOUR CODE"
      ],
      "execution_count": 0,
      "outputs": []
    },
    {
      "cell_type": "code",
      "metadata": {
        "colab_type": "code",
        "id": "C2M-OAp5Z_6a",
        "colab": {}
      },
      "source": [
        "def np_scalar_product(a,b):\n",
        "    #YOUR CODE"
      ],
      "execution_count": 0,
      "outputs": []
    },
    {
      "cell_type": "code",
      "metadata": {
        "colab_type": "code",
        "id": "BOQfYf-2aCQJ",
        "outputId": "6a85f59a-2073-4824-e1bf-acf96ed274a0",
        "scrolled": true,
        "colab": {
          "base_uri": "https://localhost:8080/",
          "height": 102
        }
      },
      "source": [
        "%time product_1 = scalar_product(a,b)\n",
        "%time product_2 = np_scalar_product(a,b)\n",
        "# проверим корректность:\n",
        "np.abs(product_1 - product_2).sum()"
      ],
      "execution_count": 0,
      "outputs": [
        {
          "output_type": "stream",
          "text": [
            "CPU times: user 20 µs, sys: 1 µs, total: 21 µs\n",
            "Wall time: 24.1 µs\n",
            "CPU times: user 1.71 ms, sys: 66 µs, total: 1.78 ms\n",
            "Wall time: 20.8 ms\n"
          ],
          "name": "stdout"
        },
        {
          "output_type": "execute_result",
          "data": {
            "text/plain": [
              "0.0"
            ]
          },
          "metadata": {
            "tags": []
          },
          "execution_count": 36
        }
      ]
    },
    {
      "cell_type": "markdown",
      "metadata": {
        "colab_type": "text",
        "id": "NHaHu6q1K7mH"
      },
      "source": [
        "Почему методы ***numpy*** оказываются эффективнее? Что вы можете сказать о скорости вычислений в NumPy?"
      ]
    },
    {
      "cell_type": "markdown",
      "metadata": {
        "id": "PqsTAb1M7TTQ",
        "colab_type": "text"
      },
      "source": [
        "------------------"
      ]
    },
    {
      "cell_type": "markdown",
      "metadata": {
        "colab_type": "text",
        "id": "_A3p2s4eK7mI"
      },
      "source": [
        "**Ответ:** Скорость вычислений вектоных и матричных операций в NumPy сильно превосходит скорость вычислений без него, по большей части потому, что функции numpy работаю с массивами данных одного типа (числовыми), это позволяет реализовать встроенные функции numpy на C/C++, что, конечно, делает numpy быстрее (функции, которые вызывает Numpy для работы с числовыми данными, сильно оптимизированы именно под эти задачи, а сам Python просто гоняет интерпретатор по циклу в таких операциях, что является чуть ли не самым большим замедлением в работе интерпретатора)."
      ]
    },
    {
      "cell_type": "markdown",
      "metadata": {
        "colab_type": "text",
        "id": "mJXeUuznK7lm"
      },
      "source": [
        "### Задание 3\n",
        "Напишите функцию, которая находим сумму четных диагональныех элементов квадратной матрицы. Если таких элементов нет, то вывести `0`."
      ]
    },
    {
      "cell_type": "code",
      "metadata": {
        "id": "qYNiKbK47TTS",
        "colab_type": "code",
        "colab": {}
      },
      "source": [
        "# функция, решающая задачу с помощью NumPy\n",
        "def np_diag_2k(a):\n",
        "    #YOUR CODE"
      ],
      "execution_count": 0,
      "outputs": []
    },
    {
      "cell_type": "code",
      "metadata": {
        "id": "BdInn8_j7TTU",
        "colab_type": "code",
        "outputId": "854af7cf-b713-40b1-8984-8868a42b4b5e",
        "colab": {}
      },
      "source": [
        "# зададим некоторую квадратную матрицу\n",
        "a = np.random.randint(1, 10, size=(5, 5))\n",
        "a"
      ],
      "execution_count": 0,
      "outputs": [
        {
          "output_type": "execute_result",
          "data": {
            "text/plain": [
              "array([[4, 6, 1, 5, 5],\n",
              "       [9, 2, 6, 7, 4],\n",
              "       [9, 2, 8, 3, 7],\n",
              "       [7, 6, 2, 4, 7],\n",
              "       [5, 9, 7, 6, 9]])"
            ]
          },
          "metadata": {
            "tags": []
          },
          "execution_count": 19
        }
      ]
    },
    {
      "cell_type": "code",
      "metadata": {
        "id": "ZR97Nt9N7TTW",
        "colab_type": "code",
        "outputId": "56679264-0a18-41ab-89d5-4dc758946885",
        "colab": {}
      },
      "source": [
        "%%time\n",
        "# засечем время работы функции с NumPy\n",
        "np_diag_2k(a)"
      ],
      "execution_count": 0,
      "outputs": [
        {
          "output_type": "stream",
          "text": [
            "CPU times: user 107 µs, sys: 4 µs, total: 111 µs\n",
            "Wall time: 118 µs\n"
          ],
          "name": "stdout"
        },
        {
          "output_type": "execute_result",
          "data": {
            "text/plain": [
              "18"
            ]
          },
          "metadata": {
            "tags": []
          },
          "execution_count": 22
        }
      ]
    },
    {
      "cell_type": "markdown",
      "metadata": {
        "colab_type": "text",
        "id": "cdcRkFzQ7TTY"
      },
      "source": [
        "### Задание 4\n",
        "Напишите функцию, которая по данной последовательности $\\{A_i\\}_{i=1}^n$ строит последовательность $S_n$, где $S_k = \\frac{A_1 + ... + A_k}{k}$.  "
      ]
    },
    {
      "cell_type": "code",
      "metadata": {
        "colab_type": "code",
        "id": "REgL39ksK7lr",
        "colab": {}
      },
      "source": [
        "# функция, решающая задачу с помощью NumPy\n",
        "def np_sec_av(A):\n",
        "    return #YOUR CODE"
      ],
      "execution_count": 0,
      "outputs": []
    },
    {
      "cell_type": "code",
      "metadata": {
        "colab_type": "code",
        "id": "HcVN8MagK7lw",
        "outputId": "a4cc2ffd-84f2-46b5-9789-aa728d8899f9",
        "colab": {
          "base_uri": "https://localhost:8080/",
          "height": 102
        }
      },
      "source": [
        "# зададим некоторую последовательность и проверим ее на ваших функциях. \n",
        "# функция должна работать ~ в 50 раз быстрее, чем без Numpy\n",
        "A = sps.uniform.rvs(size=10**3) \n",
        "\n",
        "%time S2 = np_sec_av(A)"
      ],
      "execution_count": 0,
      "outputs": [
        {
          "output_type": "stream",
          "text": [
            "CPU times: user 616 µs, sys: 0 ns, total: 616 µs\n",
            "Wall time: 507 µs\n"
          ],
          "name": "stdout"
        }
      ]
    },
    {
      "cell_type": "markdown",
      "metadata": {
        "colab_type": "text",
        "id": "teVCPWZmK7l5"
      },
      "source": [
        "### Задание 5\n",
        "\n",
        "​\n",
        "Задан двумерный массив $X$. Для каждой строчки массива X необходимо сделать следующее преобразование.\n",
        "\n",
        "Пусть дана строчка x. Необходимо построить новый массив, где все элементы с нечетными индексами требуется заменить на число a (значение по умолчанию a=1). Все элементы с четными индексами нужно возвести в куб. Затем записать элементы в обратном порядке относительно их позиций. В конце требуется слить массив xс преобразованным xи вывести.\n",
        "\n",
        "Напишите функцию, которая выполняет данное преобразование для каждой строчки двумерного массива X. Массив X при этом должен остаться без изменений.\n",
        "\n",
        "Используйте библиотеку numpy.\n",
        "\n",
        "Пример:\n",
        "$X = [[100,200,300,400,500]]$ -> $[[100,a,300,a,500]]$ -> $[[500^3,a,300^3,a,100^3]]$ -> склеиваем -> $[[100,200,300,400,500,500^3,a,300^3,a,100^3]]$\n",
        "\n",
        "​"
      ]
    },
    {
      "cell_type": "code",
      "metadata": {
        "colab_type": "code",
        "id": "0hmcvfDVK7l-",
        "colab": {}
      },
      "source": [
        "# функция, решающая задачу с помощью NumPy\n",
        "from copy import copy\n",
        "def np_transformation(X, a=1):\n",
        "    #YOUR CODE"
      ],
      "execution_count": 0,
      "outputs": []
    },
    {
      "cell_type": "code",
      "metadata": {
        "colab_type": "code",
        "id": "r2-JLMhxK7mE",
        "outputId": "13559189-f157-4649-dc9d-f12af1366519",
        "scrolled": true,
        "colab": {
          "base_uri": "https://localhost:8080/",
          "height": 102
        }
      },
      "source": [
        "X = np.array([i for i in range(1, 10, 2)])\n",
        "# функция должна работать ~ в 20 раз быстрее, чем без Numpy \n",
        "%time S2 = np_transformation(X, 5)"
      ],
      "execution_count": 0,
      "outputs": [
        {
          "output_type": "stream",
          "text": [
            "CPU times: user 159 µs, sys: 0 ns, total: 159 µs\n",
            "Wall time: 183 µs\n"
          ],
          "name": "stdout"
        }
      ]
    },
    {
      "cell_type": "markdown",
      "metadata": {
        "id": "qa521fce7TTk",
        "colab_type": "text"
      },
      "source": [
        "### Задание 6\n",
        "Написать функцию для кодирование массива (Run-length encoding). Все подряд повторения элементов функция сжимает в один элемент и считает количество повторений. Функция возвращает кортеж из двух векторов одинаковой длины. Первый содержит элементы, а второй — сколько раз их нужно повторить. \n",
        "\n",
        "Пример: encode(np.array([1, 2, 2, 3, 3, 1, 1, 5, 5, 2, 3, 3])) = (np.array[1, 2, 3, 1, 5, 2, 3]), np.array[1, 2, 2, 2, 2, 1, 2])"
      ]
    },
    {
      "cell_type": "code",
      "metadata": {
        "id": "4wD7OSVv7TTl",
        "colab_type": "code",
        "colab": {}
      },
      "source": [
        "# функция, решающая задачу с помощью NumPy\n",
        "def np_encode(a):\n",
        "    #YOUR CODE"
      ],
      "execution_count": 0,
      "outputs": []
    },
    {
      "cell_type": "code",
      "metadata": {
        "id": "P7YxojET7TTn",
        "colab_type": "code",
        "outputId": "4a5fdafe-55a1-4c10-857e-305ce1ee68e0",
        "colab": {}
      },
      "source": [
        "X = np.array([1, 2, 2, 3, 3, 1, 1, 5, 5, 2, 3, 3])\n",
        "\n",
        "%time x, num = np_encode(X)"
      ],
      "execution_count": 0,
      "outputs": [
        {
          "output_type": "stream",
          "text": [
            "CPU times: user 51 µs, sys: 2 µs, total: 53 µs\n",
            "Wall time: 58.7 µs\n"
          ],
          "name": "stdout"
        }
      ]
    },
    {
      "cell_type": "code",
      "metadata": {
        "id": "UFEfPGvY7TTp",
        "colab_type": "code",
        "colab": {}
      },
      "source": [
        ""
      ],
      "execution_count": 0,
      "outputs": []
    }
  ]
}